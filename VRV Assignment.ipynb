{
 "cells": [
  {
   "cell_type": "code",
   "execution_count": 1,
   "id": "3726bb53",
   "metadata": {},
   "outputs": [],
   "source": [
    "#necessory imports\n",
    "import re\n",
    "from collections import Counter\n",
    "import csv"
   ]
  },
  {
   "cell_type": "markdown",
   "id": "947328e1",
   "metadata": {},
   "source": [
    "## Task 1"
   ]
  },
  {
   "cell_type": "code",
   "execution_count": 2,
   "id": "49836aaf",
   "metadata": {},
   "outputs": [],
   "source": [
    "# Regular expression to match IP addresses\n",
    "ip_pattern = re.compile(r'(\\d+\\.\\d+\\.\\d+\\.\\d+)')\n",
    "\n",
    "#variable to store log data\n",
    "log_data=\"\"\"\"\"\"\n",
    "\n",
    "# Open the log file in read mode\n",
    "with open('sample.log', 'r') as file:\n",
    "    # Read each line in the file\n",
    "    for line in file:\n",
    "        log_data=log_data + line\n",
    "#print(log_data)\n",
    "\n",
    "# Extract IP addresses\n",
    "ip_addresses = ip_pattern.findall(log_data)\n",
    "\n",
    "# Count requests per IP address\n",
    "ip_counts = Counter(ip_addresses)\n",
    "\n",
    "# Sort and display the results in descending order of request counts\n",
    "sorted_ip_counts = sorted(ip_counts.items(), key=lambda x: x[1], reverse=True)\n",
    "\n",
    "# Display the results\n",
    "#print(\"IP Address \\t\\t Request Counts\")\n",
    "#for ip, count in sorted_ip_counts:\n",
    "#    print(f\"{ip} \\t\\t {count}\")"
   ]
  },
  {
   "cell_type": "markdown",
   "id": "16a85085",
   "metadata": {},
   "source": [
    "## Task 2"
   ]
  },
  {
   "cell_type": "code",
   "execution_count": 3,
   "id": "858e876e",
   "metadata": {},
   "outputs": [],
   "source": [
    "# Regular expression to extract endpoints\n",
    "endpoint_pattern = re.compile(r'\\\"(?:GET|POST) (/\\S*)')\n",
    "\n",
    "# Extract endpoints\n",
    "endpoints = endpoint_pattern.findall(log_data)\n",
    "\n",
    "# Count requests per endpoint\n",
    "endpoint_counts = Counter(endpoints)\n",
    "\n",
    "# Identify the most frequently accessed endpoint\n",
    "most_frequent_endpoint = endpoint_counts.most_common(1)[0]\n",
    "\n",
    "# Display the result\n",
    "#print(f\"Most frequently accessed endpoint:\\n {most_frequent_endpoint[0]} (Accessed {most_frequent_endpoint[1]} times)\")"
   ]
  },
  {
   "cell_type": "markdown",
   "id": "08d02447",
   "metadata": {},
   "source": [
    "## Task 3"
   ]
  },
  {
   "cell_type": "code",
   "execution_count": 4,
   "id": "9a16968b",
   "metadata": {
    "scrolled": true
   },
   "outputs": [],
   "source": [
    "# Regular expression to extract IP addresses and status codes\n",
    "log_pattern = re.compile(r'(\\d+\\.\\d+\\.\\d+\\.\\d+).+?\"POST /login HTTP/1.1\" 401')\n",
    "\n",
    "# Extract IP addresses with failed login attempts\n",
    "failed_logins = log_pattern.findall(log_data)\n",
    "\n",
    "# Count failed login attempts per IP address\n",
    "failed_login_counts = Counter(failed_logins)\n",
    "\n",
    "# Configurable threshold for flagging suspicious activity\n",
    "threshold = 10\n",
    "#tested with different thresholds.. 0 and 5\n",
    "# Identify IP addresses exceeding the threshold\n",
    "suspicious_ips = {ip: count for ip, count in failed_login_counts.items() if count > threshold}\n",
    "#print(suspicious_ips)\n",
    "#if(suspicious_ips):\n",
    "#   print(\"Suspicious Activity Detected:\")\n",
    "#   # Display the flagged IP addresses and their failed login counts\n",
    "#   print(\"IP Address \\t\\tFailed Login Attempts\")\n",
    "#   for ip, count in suspicious_ips.items():\n",
    "#       print(f\"{ip} \\t\\t{count} \")\n",
    "#else:\n",
    "#   print(\"Suspicious Activity Not Detected.\")"
   ]
  },
  {
   "cell_type": "markdown",
   "id": "45497056",
   "metadata": {},
   "source": [
    "## Task 4"
   ]
  },
  {
   "cell_type": "code",
   "execution_count": 5,
   "id": "2774cf90",
   "metadata": {},
   "outputs": [
    {
     "name": "stdout",
     "output_type": "stream",
     "text": [
      "IP Address \t\t Request Counts\n",
      "203.0.113.5 \t\t 8\n",
      "198.51.100.23 \t\t 8\n",
      "192.168.1.1 \t\t 7\n",
      "10.0.0.2 \t\t 6\n",
      "192.168.1.100 \t\t 5\n",
      "Most frequently accessed endpoint:\n",
      " /login (Accessed 13 times)\n",
      "Suspicious Activity Not Detected.\n"
     ]
    }
   ],
   "source": [
    "\"\"\"\n",
    "Regular expressions to extract IP addresses, endpoints, and failed login attempts\n",
    "ip_pattern = re.compile(r'(\\d+\\.\\d+\\.\\d+\\.\\d+)')\n",
    "endpoint_pattern = re.compile(r'\\\"(?:GET|POST) (/\\S*)')\n",
    "log_pattern = re.compile(r'(\\d+\\.\\d+\\.\\d+\\.\\d+).+?\"POST /login HTTP/1.1\" 401') - for failed login\n",
    "\"\"\"\n",
    "# Display results in the terminal\n",
    "print(\"IP Address \\t\\t Request Counts\")\n",
    "for ip, count in sorted_ip_counts:\n",
    "    print(f\"{ip} \\t\\t {count}\")\n",
    "\n",
    "print(f\"Most frequently accessed endpoint:\\n {most_frequent_endpoint[0]} (Accessed {most_frequent_endpoint[1]} times)\")\n",
    "\n",
    "if(suspicious_ips):\n",
    "    print(\"Suspicious Activity Detected:\")\n",
    "    # Display the flagged IP addresses and their failed login counts\n",
    "    print(\"IP Address \\t\\tFailed Login Attempts\")\n",
    "    for ip, count in suspicious_ips.items():\n",
    "        print(f\"{ip} \\t\\t{count} \")\n",
    "else:\n",
    "    print(\"Suspicious Activity Not Detected.\")"
   ]
  },
  {
   "cell_type": "code",
   "execution_count": 6,
   "id": "9b10b56f",
   "metadata": {},
   "outputs": [],
   "source": [
    "# Save results to a CSV file\n",
    "with open('log_analysis_results.csv', 'w', newline='') as csvfile:\n",
    "    csvwriter = csv.writer(csvfile)\n",
    "    \n",
    "    # Write Requests per IP\n",
    "    csvwriter.writerow(['Requests per IP'])\n",
    "    csvwriter.writerow(['IP Address', 'Request Count'])\n",
    "    for ip, count in ip_counts.items():\n",
    "        csvwriter.writerow([ip, count])\n",
    "    \n",
    "    # Write Most Accessed Endpoint\n",
    "    csvwriter.writerow([])\n",
    "    csvwriter.writerow(['Most Accessed Endpoint'])\n",
    "    csvwriter.writerow(['Endpoint', 'Access Count'])\n",
    "    csvwriter.writerow([most_frequent_endpoint[0], most_frequent_endpoint[1]])\n",
    "    \n",
    "    # Write Suspicious Activity\n",
    "    csvwriter.writerow([])\n",
    "    csvwriter.writerow(['Suspicious Activity'])\n",
    "    csvwriter.writerow(['IP Address', 'Failed Login Count'])\n",
    "    for ip, count in suspicious_ips.items():\n",
    "        csvwriter.writerow([ip, count])"
   ]
  },
  {
   "cell_type": "code",
   "execution_count": null,
   "id": "078d6da8",
   "metadata": {},
   "outputs": [],
   "source": []
  }
 ],
 "metadata": {
  "kernelspec": {
   "display_name": "Python 3",
   "language": "python",
   "name": "python3"
  },
  "language_info": {
   "codemirror_mode": {
    "name": "ipython",
    "version": 3
   },
   "file_extension": ".py",
   "mimetype": "text/x-python",
   "name": "python",
   "nbconvert_exporter": "python",
   "pygments_lexer": "ipython3",
   "version": "3.6.13"
  }
 },
 "nbformat": 4,
 "nbformat_minor": 5
}
