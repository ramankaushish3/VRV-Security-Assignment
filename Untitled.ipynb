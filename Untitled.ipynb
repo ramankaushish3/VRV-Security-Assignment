{
 "cells": [
  {
   "cell_type": "code",
   "execution_count": 8,
   "id": "64a9d3fb",
   "metadata": {},
   "outputs": [
    {
     "name": "stdout",
     "output_type": "stream",
     "text": [
      "<_io.TextIOWrapper name='sample.log' mode='r' encoding='cp1252'>\n"
     ]
    },
    {
     "ename": "TypeError",
     "evalue": "expected string or bytes-like object",
     "output_type": "error",
     "traceback": [
      "\u001b[1;31m---------------------------------------------------------------------------\u001b[0m",
      "\u001b[1;31mTypeError\u001b[0m                                 Traceback (most recent call last)",
      "\u001b[1;32m<ipython-input-8-bf886d690e06>\u001b[0m in \u001b[0;36m<module>\u001b[1;34m\u001b[0m\n\u001b[0;32m      9\u001b[0m \u001b[0mprint\u001b[0m\u001b[1;33m(\u001b[0m\u001b[0mf1\u001b[0m\u001b[1;33m)\u001b[0m\u001b[1;33m\u001b[0m\u001b[1;33m\u001b[0m\u001b[0m\n\u001b[0;32m     10\u001b[0m \u001b[1;31m# Extract IP addresses\u001b[0m\u001b[1;33m\u001b[0m\u001b[1;33m\u001b[0m\u001b[1;33m\u001b[0m\u001b[0m\n\u001b[1;32m---> 11\u001b[1;33m \u001b[0mip_addresses\u001b[0m \u001b[1;33m=\u001b[0m \u001b[0mip_pattern\u001b[0m\u001b[1;33m.\u001b[0m\u001b[0mfindall\u001b[0m\u001b[1;33m(\u001b[0m\u001b[0mf1\u001b[0m\u001b[1;33m)\u001b[0m\u001b[1;33m\u001b[0m\u001b[1;33m\u001b[0m\u001b[0m\n\u001b[0m\u001b[0;32m     12\u001b[0m \u001b[1;33m\u001b[0m\u001b[0m\n\u001b[0;32m     13\u001b[0m \u001b[1;31m# Count requests per IP address\u001b[0m\u001b[1;33m\u001b[0m\u001b[1;33m\u001b[0m\u001b[1;33m\u001b[0m\u001b[0m\n",
      "\u001b[1;31mTypeError\u001b[0m: expected string or bytes-like object"
     ]
    }
   ],
   "source": [
    "import re\n",
    "from collections import Counter\n",
    "\n",
    "# Regular expression to match IP addresses\n",
    "ip_pattern = re.compile(r'(\\d+\\.\\d+\\.\\d+\\.\\d+)')\n",
    "\n",
    "# Open the log file in read mode\n",
    "with open('sample.log', 'r') as file:\n",
    "    # Read each line in the file\n",
    "    for line in file:\n",
    "        # Print the line\n",
    "        print(line.strip())\n",
    "\n",
    "# Extract IP addresses\n",
    "ip_addresses = ip_pattern.findall(log_data)\n",
    "\n",
    "# Count requests per IP address\n",
    "ip_counts = Counter(ip_addresses)\n",
    "\n",
    "# Sort and display the results in descending order of request counts\n",
    "sorted_ip_counts = sorted(ip_counts.items(), key=lambda x: x[1], reverse=True)\n",
    "\n",
    "# Display the results\n",
    "for ip, count in sorted_ip_counts:\n",
    "    print(f\"{ip}: {count} requests\")\n"
   ]
  },
  {
   "cell_type": "code",
   "execution_count": null,
   "id": "017d0008",
   "metadata": {},
   "outputs": [],
   "source": []
  }
 ],
 "metadata": {
  "kernelspec": {
   "display_name": "Python 3",
   "language": "python",
   "name": "python3"
  },
  "language_info": {
   "codemirror_mode": {
    "name": "ipython",
    "version": 3
   },
   "file_extension": ".py",
   "mimetype": "text/x-python",
   "name": "python",
   "nbconvert_exporter": "python",
   "pygments_lexer": "ipython3",
   "version": "3.6.13"
  }
 },
 "nbformat": 4,
 "nbformat_minor": 5
}
